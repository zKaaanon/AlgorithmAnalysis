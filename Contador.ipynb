{
 "cells": [
  {
   "cell_type": "code",
   "execution_count": 60,
   "metadata": {},
   "outputs": [],
   "source": [
    "def contador(B):\n",
    "    i = 0\n",
    "    j = 0\n",
    "    k = 0\n",
    "    l = \"\"\n",
    "\n",
    "    while k < len(B):\n",
    "        if(B[k][1] > i):\n",
    "            i = B[k][1]\n",
    "            l = B[k][0]\n",
    "        j = j + B[k][1]\n",
    "        k = k + 1\n",
    "\n",
    "    if(i >= j // 2 + 1):\n",
    "        return l \n",
    "    else:\n",
    "        return \"Elemento no existe\""
   ]
  },
  {
   "cell_type": "code",
   "execution_count": 51,
   "metadata": {},
   "outputs": [],
   "source": [
    "def mayor(A):\n",
    "    if(len(A) == 1):\n",
    "        return [A[0] , len(A)]\n",
    "    \n",
    "    if isinstance(A[0], list):\n",
    "        return contador(A)\n",
    "    else:\n",
    "        P = A[0]\n",
    "        L = [x for x in A if x == P]\n",
    "        R = [x for x in A if x != P]\n",
    "        \n",
    "        Z = [L[0], len(L)]\n",
    "\n",
    "        Q = R + [Z]\n",
    "\n",
    "        return mayor(Q)\n",
    "\n",
    "    \n",
    "        "
   ]
  },
  {
   "cell_type": "code",
   "execution_count": 62,
   "metadata": {},
   "outputs": [
    {
     "data": {
      "text/plain": [
       "'Elemento no existe'"
      ]
     },
     "execution_count": 62,
     "metadata": {},
     "output_type": "execute_result"
    }
   ],
   "source": [
    "mayor([\"perro\", \"gato\"])"
   ]
  }
 ],
 "metadata": {
  "kernelspec": {
   "display_name": "base",
   "language": "python",
   "name": "python3"
  },
  "language_info": {
   "codemirror_mode": {
    "name": "ipython",
    "version": 3
   },
   "file_extension": ".py",
   "mimetype": "text/x-python",
   "name": "python",
   "nbconvert_exporter": "python",
   "pygments_lexer": "ipython3",
   "version": "3.11.5"
  }
 },
 "nbformat": 4,
 "nbformat_minor": 2
}
