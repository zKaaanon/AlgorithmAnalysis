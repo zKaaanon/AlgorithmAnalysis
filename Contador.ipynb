{
 "cells": [
  {
   "cell_type": "code",
   "execution_count": 48,
   "metadata": {},
   "outputs": [],
   "source": [
    "def prueba2(B, animal):\n",
    "    if len(B) != 0:\n",
    "        i = 0\n",
    "        j = 0\n",
    "\n",
    "        while i < len(B):\n",
    "            if B[i] != animal:\n",
    "                B[j], B[i] = B[i], B[j] \n",
    "                j += 1\n",
    "            i += 1\n",
    "\n",
    "        return B[:j]\n"
   ]
  },
  {
   "cell_type": "code",
   "execution_count": 53,
   "metadata": {},
   "outputs": [],
   "source": [
    "def prueba1(A):\n",
    "    if(len(A) != 0):\n",
    "                y = len(A)\n",
    "                x = A[y//2]\n",
    "                L = A[:y//2]\n",
    "                D = A[y // 2 + 1:]\n",
    "                \n",
    "                izq = 0\n",
    "                der = 0\n",
    "                repetidos = 0\n",
    "\n",
    "                while izq < len(L):\n",
    "                    if(L[izq] == x):\n",
    "                        repetidos+=1   \n",
    "                    izq+=1\n",
    "\n",
    "                L = prueba2(L, x)\n",
    "\n",
    "                while der < len(D):\n",
    "                    if(D[der] == x):\n",
    "                        repetidos+=1\n",
    "                    \n",
    "                    der+=1\n",
    "                \n",
    "                D = prueba2(D, x)\n",
    "\n",
    "                return f\"El elemento {x} se ha repetido {repetidos} veces\", f\"Lista izquierda: {L}\", f\"Lista derecha: {D}\""
   ]
  },
  {
   "cell_type": "code",
   "execution_count": 51,
   "metadata": {},
   "outputs": [
    {
     "data": {
      "text/plain": [
       "('El elemento gallina se ha repetido 2 veces',\n",
       " \"Lista izquierda: ['perro', 'gato']\",\n",
       " \"Lista derecha: ['zorro']\")"
      ]
     },
     "execution_count": 51,
     "metadata": {},
     "output_type": "execute_result"
    }
   ],
   "source": [
    "prueba1([\"gallina\", \"perro\", \"gato\" , \"gallina\" , \"zorro\" , \"gallina\"])"
   ]
  }
 ],
 "metadata": {
  "kernelspec": {
   "display_name": "base",
   "language": "python",
   "name": "python3"
  },
  "language_info": {
   "codemirror_mode": {
    "name": "ipython",
    "version": 3
   },
   "file_extension": ".py",
   "mimetype": "text/x-python",
   "name": "python",
   "nbconvert_exporter": "python",
   "pygments_lexer": "ipython3",
   "version": "3.11.5"
  }
 },
 "nbformat": 4,
 "nbformat_minor": 2
}
