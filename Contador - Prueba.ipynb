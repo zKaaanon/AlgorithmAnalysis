{
 "cells": [
  {
   "cell_type": "code",
   "execution_count": 1,
   "metadata": {},
   "outputs": [],
   "source": [
    "def prueba(A):\n",
    "    if(len(A) == 1):\n",
    "        return A[0], 1\n",
    "    \n",
    "    n = len(A)\n",
    "    x = A[:n // 2]\n",
    "    y= A[n // 2:]\n",
    "\n",
    "    di1, di2 = prueba(x)\n",
    "    dd1, dd2 = prueba(y)\n",
    "\n",
    "    di2 += sum(1 for i in y if i == di1)\n",
    "    dd2 += sum(1 for i in x if i == dd1)\n",
    "\n",
    "    if(di2 >= len(A) // 2 + 1):\n",
    "        return di1, di2\n",
    "    elif(dd2 >= len(A) // 2 + 1):\n",
    "        return dd1, dd2\n",
    "    else:\n",
    "        return None, 0"
   ]
  },
  {
   "cell_type": "code",
   "execution_count": 2,
   "metadata": {},
   "outputs": [],
   "source": [
    "def contador(A):\n",
    "    animal , repeticiones = prueba(A)\n",
    "\n",
    "    if(repeticiones >= len(A) // 2 + 1 ):\n",
    "        return animal\n",
    "    else:\n",
    "        return \"No existe el elemento\""
   ]
  },
  {
   "cell_type": "code",
   "execution_count": 3,
   "metadata": {},
   "outputs": [
    {
     "data": {
      "text/plain": [
       "'perro'"
      ]
     },
     "execution_count": 3,
     "metadata": {},
     "output_type": "execute_result"
    }
   ],
   "source": [
    "contador([\"perro\", \"perro\", \"gato\", \"perro\"])"
   ]
  }
 ],
 "metadata": {
  "kernelspec": {
   "display_name": "base",
   "language": "python",
   "name": "python3"
  },
  "language_info": {
   "codemirror_mode": {
    "name": "ipython",
    "version": 3
   },
   "file_extension": ".py",
   "mimetype": "text/x-python",
   "name": "python",
   "nbconvert_exporter": "python",
   "pygments_lexer": "ipython3",
   "version": "3.11.5"
  }
 },
 "nbformat": 4,
 "nbformat_minor": 2
}
