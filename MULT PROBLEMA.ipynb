{
 "cells": [
  {
   "cell_type": "code",
   "execution_count": null,
   "metadata": {},
   "outputs": [],
   "source": [
    "#Nota: La longitud minima requerida para ambos algoritmos es de al menos 1."
   ]
  },
  {
   "cell_type": "code",
   "execution_count": null,
   "metadata": {},
   "outputs": [],
   "source": [
    "#TEOREMA: el algoritmo mult, el cual es recursivo, resuelve de manera correcta la multiplicacion de todos los elementos de la lista.\n",
    "\n",
    "# Caso Base : Si la lista es de un unico elemento entonces cae en el primer caso, de donde solamente va a retornar la primera instancia, es decir,\n",
    "# el elemento colocado en el espacio \"0\" de la lista, y este sera correcto como la multiplicacion de todos los elementos de dicha lista.\n",
    "# \n",
    "# Hip. Inductiva: Supongamos que n es igual a k y dicho algoritmo es valido para toda lista con k elementos.\n",
    "# \n",
    "# Caso Inductivo: P.D. que el algoritmo es valido para toda k+1 elementos.\n",
    "# \n",
    "# Supongamos una lista con k+1 elementos, de donde es importante ver que posee al menos 2 elementos, de esta forma, caera en el segundo paso\n",
    "# de donde multiplicaremos \"la cabeza\" de la lista por el algoritmo mult del resto de esta. Es decir, que multiplicaremos el k+1-esimo elemento\n",
    "# por el algoritmo mult que recibe una lista con k-elementos, por H.I. el algoritmo mult es valido con k elementos, de esta manera, se multiplican\n",
    "# el elemento k+1-esimo por todos los restantes elementos de la lista. Por lo tanto, el algoritmo mult devolvera correctamente la multiplicacion\n",
    "# de todos estos elementos. \n"
   ]
  },
  {
   "cell_type": "code",
   "execution_count": 10,
   "metadata": {},
   "outputs": [],
   "source": [
    "def mult(A):\n",
    "    if(len(A) == 1): \n",
    "        return A[0]\n",
    "    else: \n",
    "        return A[0] * mult(A[1:])\n"
   ]
  },
  {
   "cell_type": "code",
   "execution_count": 9,
   "metadata": {},
   "outputs": [
    {
     "data": {
      "text/plain": [
       "120"
      ]
     },
     "execution_count": 9,
     "metadata": {},
     "output_type": "execute_result"
    }
   ],
   "source": [
    "mult([2,3,4,5])"
   ]
  },
  {
   "cell_type": "code",
   "execution_count": null,
   "metadata": {},
   "outputs": [],
   "source": [
    "# El invariante en este caso para la demostracion iterativa sera que el acumulador dara el resultado correcto de multiplicar todos los k elementos de la lista"
   ]
  },
  {
   "cell_type": "code",
   "execution_count": null,
   "metadata": {},
   "outputs": [],
   "source": [
    "# TEOREMA: el algoritmo multi, el cual es iterativo, resuelve de manera correcta la multiplicacion de todos los elementos de la lista.\n",
    "\n",
    "# Caso Base: Sea la lista de longitud 1, esta solamente se va a iterar 1 sola vez, de donde el acumulador con un valor de 1, se multiplicara con el\n",
    "# unico elemento v de la lista, asi con el acc = acc * v; este v sera el resultado de la multiplicacion de todos los elementos de la lista.\n",
    "\n",
    "# Hip. Inductiva: Tras ejecutar las lineas del for y \"acc *= v\" un numero de k veces, el invariante se mantiene.\n",
    "\n",
    "# Caso Inductivo: P.D. que el invariante se mantiene para una lista de k+1 elementos\n",
    "#\n",
    "# Sea una lista con k+1 elementos, el for se iterara k+1 veces de donde llamaremos v_i al i-esimo elemento iterado. De este modo, en la 3ra linea se \n",
    "# esta iterando el acc = acc * v_i. Asi, en la (i-1) vez, el acc valdra... acc= v_0 * v_1 * ... * v_k (ya que por H.I. para k elementos, el invariante se mantiene)\n",
    "# de este modo, en la i-esima iteracion, el acumulador operara... acc = v_0 * v_1 * ... * v_k * v_k+1. Como el acumulador devuelve el resultado correcto para\n",
    "# una lista de k elementos y ese acumulador se esta multiplicando por v_k+1 entonces el acumulador dara como resultado final la multiplicacion de toda la lista\n",
    "# de k+1 elementos, por lo tanto el invariante se mantiene."
   ]
  },
  {
   "cell_type": "code",
   "execution_count": 7,
   "metadata": {},
   "outputs": [],
   "source": [
    "def multi(A):\n",
    "    acc = 1\n",
    "    for v in A:\n",
    "        acc *= v\n",
    "    return acc"
   ]
  },
  {
   "cell_type": "code",
   "execution_count": 8,
   "metadata": {},
   "outputs": [
    {
     "data": {
      "text/plain": [
       "120"
      ]
     },
     "execution_count": 8,
     "metadata": {},
     "output_type": "execute_result"
    }
   ],
   "source": [
    "multi([2,3,4,5])"
   ]
  }
 ],
 "metadata": {
  "kernelspec": {
   "display_name": "Python 3",
   "language": "python",
   "name": "python3"
  },
  "language_info": {
   "codemirror_mode": {
    "name": "ipython",
    "version": 3
   },
   "file_extension": ".py",
   "mimetype": "text/x-python",
   "name": "python",
   "nbconvert_exporter": "python",
   "pygments_lexer": "ipython3",
   "version": "3.11.5"
  }
 },
 "nbformat": 4,
 "nbformat_minor": 2
}
