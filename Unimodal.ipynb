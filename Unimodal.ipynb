{
 "cells": [
  {
   "cell_type": "code",
   "execution_count": 5,
   "metadata": {},
   "outputs": [],
   "source": [
    "def unimodal(A):\n",
    "    if(len(A)< 1):\n",
    "        return \"No existe p\"\n",
    "    \n",
    "    if(len(A) == 1):\n",
    "        return A[0]\n",
    "    \n",
    "    if(len (A) == 2):\n",
    "        if(A[0] >= A[1]):\n",
    "            return A[0]\n",
    "        else:\n",
    "            return A[1]\n",
    "    \n",
    "    else:\n",
    "        mitad = A[len(A) // 2]\n",
    "        pos = len(A) // 2\n",
    "        \n",
    "        #CASO ESPECIAL: LISTA [5,4,3,2,1], SI MITAD QUE ES 3, POS+1 ES 2\n",
    "        #PERO POS-1 ES 4, ASI RETURN unimodal(A[:mitad])\n",
    "        \n",
    "        if(mitad > A[pos+1] and mitad > A[pos-1]):\n",
    "            return mitad \n",
    "        \n",
    "        if(mitad < A[pos+1]):\n",
    "            return unimodal(A[pos+1:])\n",
    "        \n",
    "        else:\n",
    "            return unimodal(A[:pos])\n",
    "        "
   ]
  },
  {
   "cell_type": "code",
   "execution_count": 11,
   "metadata": {},
   "outputs": [
    {
     "data": {
      "text/plain": [
       "5"
      ]
     },
     "execution_count": 11,
     "metadata": {},
     "output_type": "execute_result"
    }
   ],
   "source": [
    "unimodal([1,2,3,4,5])"
   ]
  }
 ],
 "metadata": {
  "kernelspec": {
   "display_name": "Python 3",
   "language": "python",
   "name": "python3"
  },
  "language_info": {
   "codemirror_mode": {
    "name": "ipython",
    "version": 3
   },
   "file_extension": ".py",
   "mimetype": "text/x-python",
   "name": "python",
   "nbconvert_exporter": "python",
   "pygments_lexer": "ipython3",
   "version": "3.12.5"
  }
 },
 "nbformat": 4,
 "nbformat_minor": 2
}
