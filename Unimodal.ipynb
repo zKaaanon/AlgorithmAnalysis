{
 "cells": [
  {
   "cell_type": "code",
   "execution_count": 16,
   "metadata": {},
   "outputs": [],
   "source": [
    "def unimodal(A, n):\n",
    "    if(len(A)< 1):\n",
    "        return \"No existe p\"\n",
    "    \n",
    "    if(len(A) == 1):\n",
    "        return A[0] , n\n",
    "    \n",
    "    if(len (A) == 2):\n",
    "        if(A[0] >= A[1]):\n",
    "            return A[0] , n\n",
    "        else:\n",
    "            return A[1] , n + 1\n",
    "    \n",
    "    else:\n",
    "        mitad = A[len(A) // 2]\n",
    "        pos = len(A) // 2\n",
    "        \n",
    "        if(mitad > A[pos+1] and mitad > A[pos-1]):\n",
    "            return mitad , n + pos\n",
    "        \n",
    "        if(mitad < A[pos+1]):\n",
    "            return unimodal(A[pos+1:] , n + pos + 1)\n",
    "        \n",
    "        else:\n",
    "            return unimodal(A[:pos] , n)\n",
    "        "
   ]
  },
  {
   "cell_type": "code",
   "execution_count": 17,
   "metadata": {},
   "outputs": [],
   "source": [
    "def resolutorio(B):\n",
    "    return unimodal(B,0)"
   ]
  },
  {
   "cell_type": "code",
   "execution_count": 18,
   "metadata": {},
   "outputs": [
    {
     "data": {
      "text/plain": [
       "(4, 3)"
      ]
     },
     "execution_count": 18,
     "metadata": {},
     "output_type": "execute_result"
    }
   ],
   "source": [
    "resolutorio([1,2,3,4,3,2,1])"
   ]
  }
 ],
 "metadata": {
  "kernelspec": {
   "display_name": "Python 3",
   "language": "python",
   "name": "python3"
  },
  "language_info": {
   "codemirror_mode": {
    "name": "ipython",
    "version": 3
   },
   "file_extension": ".py",
   "mimetype": "text/x-python",
   "name": "python",
   "nbconvert_exporter": "python",
   "pygments_lexer": "ipython3",
   "version": "3.12.5"
  }
 },
 "nbformat": 4,
 "nbformat_minor": 2
}
